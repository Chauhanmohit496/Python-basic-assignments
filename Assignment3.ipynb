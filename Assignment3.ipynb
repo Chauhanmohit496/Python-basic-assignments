{
 "cells": [
  {
   "cell_type": "markdown",
   "id": "66b12b5e-68ec-4d90-9da2-0da57a6a639e",
   "metadata": {},
   "source": [
    "Q.1) Why are functions advantageous to have in your programs?"
   ]
  },
  {
   "cell_type": "markdown",
   "id": "0f8ba025-4115-4d4f-857c-f3c5dee960f6",
   "metadata": {},
   "source": [
    "1. Use of functions increases the reusability of the code. We can use the same function as many time require by calling the function by their name.\n",
    "2. In real or practical uses very large programs are divided into functions to keep the programme structured, reusable and easy to read and understand."
   ]
  },
  {
   "cell_type": "markdown",
   "id": "a0ba174c-a2bf-468f-92cb-ee6b24e74cb1",
   "metadata": {},
   "source": [
    "Q.2) When does the code in a function run: when it's specified or when it's called?"
   ]
  },
  {
   "cell_type": "markdown",
   "id": "39e0ab4b-e634-480d-b76c-f38ce00258c2",
   "metadata": {},
   "source": [
    "Code always executes from the beginning of the first statement of the program. Statements are executed from top to bottom one by one in a sequence. Execution of function includes first function definition and then function call, but the statement inside the function only runs when the function is called. \n",
    "Example:-\n",
    "\n",
    "def test1():\n",
    "    return \"This is the test function\"\n",
    "\n",
    "test1()\n",
    "\n",
    "Output:-\n",
    "This is the test function"
   ]
  },
  {
   "cell_type": "markdown",
   "id": "cb0acde5-c5bd-46c6-880e-453072259117",
   "metadata": {},
   "source": [
    "Q.3) What statement creates a function?"
   ]
  },
  {
   "cell_type": "markdown",
   "id": "cfbda8c6-eb84-40f8-8dec-05fc93362267",
   "metadata": {},
   "source": [
    "Function is created by defining the function by keyword \"def function_name\" then function body.\n",
    "\n",
    "Example:-\n",
    "\n",
    "def sum(a,b):\n",
    "    return a+b"
   ]
  },
  {
   "cell_type": "markdown",
   "id": "5f9946fe-93b9-4442-bc70-12ec69e66252",
   "metadata": {},
   "source": [
    "Q.4) What is the difference between a function and a function call?"
   ]
  },
  {
   "cell_type": "markdown",
   "id": "eccc63f4-e0ea-4b74-ab94-92dce6bb7f53",
   "metadata": {},
   "source": [
    "1.) A function is defined as a block of code that does a particular operation and then returns the result.\n",
    "2.) Whereas function call is defined as to run the code inside the function body.\n",
    "\n",
    "Example:-\n",
    "Function:-\n",
    "def sum(a,b):\n",
    "    return a+b\n",
    "    \n",
    "Function call:-\n",
    "\n",
    "sum(3,4)"
   ]
  },
  {
   "cell_type": "markdown",
   "id": "d96ebe61-1809-4611-9c0d-4e8f1a453808",
   "metadata": {},
   "source": [
    "Q.5) How many global scopes are there in a Python program? How many local scopes?"
   ]
  },
  {
   "cell_type": "markdown",
   "id": "fdeaa1e4-67c9-473b-bb15-895d6ee5a27b",
   "metadata": {},
   "source": [
    "1.) Global scope of a variable is the names that we define in the code remains available to complete program. This scope remains in existence untill the program terminates all its name are forgotten, otherwise the next time while running the program the names will remember values from their previous run. So, the global scope of variable is present in the entire program.\n",
    "2.) Local scope of a variable is the names that we define in the code, is only available or visible to the code within the scopes of the variable. In case of user defined functions in python the variable inside the function code, have limited or local scope to that particular function only, and variable of program in local scope could not be able to remember the values beyond their scope in whole program. So, the local scope of the variable is present in only in their limits of scope."
   ]
  },
  {
   "cell_type": "markdown",
   "id": "5209c406-e251-4d97-8892-6de061c6a831",
   "metadata": {},
   "source": [
    "Q.6) What happens to variables in a local scope when the function call returns?"
   ]
  },
  {
   "cell_type": "code",
   "execution_count": 27,
   "id": "9f0ff1b4-09b4-4387-9d01-9e3a5913a6fa",
   "metadata": {},
   "outputs": [
    {
     "name": "stdout",
     "output_type": "stream",
     "text": [
      "Python\n",
      "test\n"
     ]
    }
   ],
   "source": [
    "\"\"\"When the function call returns, the variable present in local scope forgots all his values and need to define when reused\"\"\"\n",
    "def func():\n",
    "   x = \"Python\"\n",
    "   s = \"test\"\n",
    "   print(x)\n",
    "   print(s)\n",
    "func()\n",
    "# Here the variable 'x' and 's' are in local scope and they forgots their initial value after returning the function call."
   ]
  },
  {
   "cell_type": "markdown",
   "id": "1949f7b2-e336-47fa-8c6c-cbf15c9fb1f1",
   "metadata": {},
   "source": [
    "Q.7) What is the concept of a return value? Is it possible to have a return value in an expression?"
   ]
  },
  {
   "cell_type": "markdown",
   "id": "8a521f39-bf13-4fea-881b-7b2b213f33da",
   "metadata": {},
   "source": [
    "return value is the value which the function returns after calling the function. return value returns the datatype on the basis of type of task it performs. It could returns the value in forms of any datatype from integer, string, list and tuple. Yes, it is possible to return values in terms of expression, Exampleis shown below:-"
   ]
  },
  {
   "cell_type": "code",
   "execution_count": 1,
   "id": "3e7d6df0-bc15-46fb-9ee2-0c6577a3a0a2",
   "metadata": {},
   "outputs": [],
   "source": [
    "def test1():\n",
    "    return 5+7*4-20"
   ]
  },
  {
   "cell_type": "code",
   "execution_count": 2,
   "id": "6804f0e4-c43a-421f-b3cd-01af71af7d41",
   "metadata": {},
   "outputs": [
    {
     "data": {
      "text/plain": [
       "13"
      ]
     },
     "execution_count": 2,
     "metadata": {},
     "output_type": "execute_result"
    }
   ],
   "source": [
    "test1()"
   ]
  },
  {
   "cell_type": "markdown",
   "id": "e38da213-7e03-45da-90cf-3e95b21222a2",
   "metadata": {},
   "source": [
    "Q.8) If a function does not have a return statement, what is the return value of a call to that function?"
   ]
  },
  {
   "cell_type": "markdown",
   "id": "976b5b25-9e2c-4a74-acb9-632e7bb2d098",
   "metadata": {},
   "source": [
    "If the function does not have the return value, it will returns the undefined datatype known as Nonetype Example is given below:-"
   ]
  },
  {
   "cell_type": "code",
   "execution_count": 4,
   "id": "b9d5e92e-747f-4258-a140-3f22ac6d4268",
   "metadata": {},
   "outputs": [
    {
     "name": "stdout",
     "output_type": "stream",
     "text": [
      "Mohit \n",
      "Mohit \n"
     ]
    },
    {
     "data": {
      "text/plain": [
       "NoneType"
      ]
     },
     "execution_count": 4,
     "metadata": {},
     "output_type": "execute_result"
    }
   ],
   "source": [
    "def test2():\n",
    "    print(\"Mohit \")\n",
    "\n",
    "test2()\n",
    "type(test2())"
   ]
  },
  {
   "cell_type": "code",
   "execution_count": 5,
   "id": "8c438509-23d4-4542-a5cb-a48dc2d57023",
   "metadata": {},
   "outputs": [
    {
     "name": "stdout",
     "output_type": "stream",
     "text": [
      "Mohit \n"
     ]
    },
    {
     "ename": "TypeError",
     "evalue": "unsupported operand type(s) for +: 'NoneType' and 'str'",
     "output_type": "error",
     "traceback": [
      "\u001b[0;31m---------------------------------------------------------------------------\u001b[0m",
      "\u001b[0;31mTypeError\u001b[0m                                 Traceback (most recent call last)",
      "Cell \u001b[0;32mIn [5], line 1\u001b[0m\n\u001b[0;32m----> 1\u001b[0m \u001b[43mtest2\u001b[49m\u001b[43m(\u001b[49m\u001b[43m)\u001b[49m\u001b[38;5;241;43m+\u001b[39;49m\u001b[38;5;124;43m\"\u001b[39;49m\u001b[38;5;124;43mChauhan\u001b[39;49m\u001b[38;5;124;43m\"\u001b[39;49m\n",
      "\u001b[0;31mTypeError\u001b[0m: unsupported operand type(s) for +: 'NoneType' and 'str'"
     ]
    }
   ],
   "source": [
    "test2()+\"Chauhan\""
   ]
  },
  {
   "cell_type": "markdown",
   "id": "b1c7bc86-47e9-406d-ad80-c0d64b6d32ca",
   "metadata": {},
   "source": [
    "Q.9) How do you make a function variable refer to the global variable?"
   ]
  },
  {
   "cell_type": "markdown",
   "id": "4a525e37-7eed-4f4c-9210-1559eb0369bb",
   "metadata": {},
   "source": [
    "The keyword global is used when you need to declare a global variable inside a function. The scope of normal variable declared inside the function is only till the end of the function.However, if we want to use the variable outside of the function as well, use global keyword while declaring the variable.\n",
    "Example:-"
   ]
  },
  {
   "cell_type": "code",
   "execution_count": 7,
   "id": "a0def9b5-82f6-4d81-a029-555ecd4dfa9e",
   "metadata": {},
   "outputs": [
    {
     "name": "stdout",
     "output_type": "stream",
     "text": [
      "Inside function: 7\n",
      "Outside function: 7\n"
     ]
    }
   ],
   "source": [
    "def test3():\n",
    "    global a\n",
    "    a=7\n",
    "    print(\"Inside function:\",a)\n",
    "test3()\n",
    "print(\"Outside function:\",a)"
   ]
  },
  {
   "cell_type": "markdown",
   "id": "7fbe4156-9cf1-424c-84bb-4f46bab3bb5a",
   "metadata": {},
   "source": [
    "Q.10) What is the data type of None?"
   ]
  },
  {
   "cell_type": "markdown",
   "id": "522a0906-972e-4150-8026-4ef84baef690",
   "metadata": {},
   "source": [
    "None datatypes are the non defined datatypes. The None keyword is used to define a null value, or no value at all. None is not the same as 0, False, or an empty string. None is a data type of its own (NoneType) and only None can be None."
   ]
  },
  {
   "cell_type": "markdown",
   "id": "855a708d-7cc9-440a-adb2-46ba1c158479",
   "metadata": {},
   "source": [
    "Q.11) What does the sentence import areallyourpetsnamederic do?"
   ]
  },
  {
   "cell_type": "code",
   "execution_count": 9,
   "id": "85b8d98d-ba1b-46ee-b8e0-89fb5b44ec6c",
   "metadata": {},
   "outputs": [
    {
     "ename": "ModuleNotFoundError",
     "evalue": "No module named 'areallyourpetsnamederic'",
     "output_type": "error",
     "traceback": [
      "\u001b[0;31m---------------------------------------------------------------------------\u001b[0m",
      "\u001b[0;31mModuleNotFoundError\u001b[0m                       Traceback (most recent call last)",
      "Cell \u001b[0;32mIn [9], line 1\u001b[0m\n\u001b[0;32m----> 1\u001b[0m \u001b[38;5;28;01mimport\u001b[39;00m \u001b[38;5;21;01mareallyourpetsnamederic\u001b[39;00m\n",
      "\u001b[0;31mModuleNotFoundError\u001b[0m: No module named 'areallyourpetsnamederic'"
     ]
    }
   ],
   "source": [
    "import areallyourpetsnamederic # That import statement imports a module named areallyourpetsnamederic, but it is not a real python module."
   ]
  },
  {
   "cell_type": "markdown",
   "id": "a7db10ab-e939-49b2-b55d-ee61b4b7717a",
   "metadata": {},
   "source": [
    "Q.12) If you had a bacon() feature in a spam module, what would you call it after importing spam?"
   ]
  },
  {
   "cell_type": "markdown",
   "id": "9ee7fa73-5849-4d6f-bb36-2cc72f06abaa",
   "metadata": {},
   "source": [
    "It could be called by statement:-\n",
    "spam.bacon()"
   ]
  },
  {
   "cell_type": "markdown",
   "id": "b1d3e84d-fc1a-44a9-9a4f-2f0439e23dfa",
   "metadata": {},
   "source": [
    "Q.13) What can you do to save a programme from crashing if it encounters an error?"
   ]
  },
  {
   "cell_type": "code",
   "execution_count": null,
   "id": "48da920d-d887-4932-bd64-0209c6dc6769",
   "metadata": {},
   "outputs": [],
   "source": [
    "# We can use try except clause to save a program from crashing."
   ]
  },
  {
   "cell_type": "markdown",
   "id": "d71dc451-1a94-43b4-9499-8cb119eff820",
   "metadata": {},
   "source": [
    "Q.14) What is the purpose of the try clause? What is the purpose of the except clause?"
   ]
  },
  {
   "cell_type": "markdown",
   "id": "6f66ffad-2aaa-4125-8fe1-de5f7890dd3d",
   "metadata": {},
   "source": [
    "The 'try' and 'except' clause is used  to execute the program if there are some error exceptions inside it, causes the crashing of program. 'try' statement test the code if its error free it runs it otherwise it will sent it to the 'except' block. The 'except' block displays the error message and execute the program further.\n",
    "Example:-"
   ]
  },
  {
   "cell_type": "code",
   "execution_count": 10,
   "id": "506ad496-3cce-4826-80a3-8d2102700ba0",
   "metadata": {},
   "outputs": [
    {
     "name": "stdin",
     "output_type": "stream",
     "text": [
      "enter value of a: 7\n",
      "enter value of b: 0\n"
     ]
    },
    {
     "name": "stdout",
     "output_type": "stream",
     "text": [
      "cannt divide by zero\n"
     ]
    }
   ],
   "source": [
    "try:\n",
    "    a=int(input(\"enter value of a:\"))\n",
    "    b=int(input(\"enter value of b:\"))\n",
    "    c=a/b\n",
    "    print(\"answer\",c)\n",
    "except ZeroDivisionError:\n",
    "    print(\"cannt divide by zero\")"
   ]
  },
  {
   "cell_type": "code",
   "execution_count": null,
   "id": "c985df41-9301-41f5-b55c-f9d215106da4",
   "metadata": {},
   "outputs": [],
   "source": []
  }
 ],
 "metadata": {
  "kernelspec": {
   "display_name": "Python 3 (ipykernel)",
   "language": "python",
   "name": "python3"
  },
  "language_info": {
   "codemirror_mode": {
    "name": "ipython",
    "version": 3
   },
   "file_extension": ".py",
   "mimetype": "text/x-python",
   "name": "python",
   "nbconvert_exporter": "python",
   "pygments_lexer": "ipython3",
   "version": "3.10.6"
  }
 },
 "nbformat": 4,
 "nbformat_minor": 5
}
