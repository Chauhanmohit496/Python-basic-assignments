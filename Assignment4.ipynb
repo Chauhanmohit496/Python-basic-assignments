{
 "cells": [
  {
   "cell_type": "markdown",
   "id": "310660b8-64e6-4be5-8c06-313a60dfeb9a",
   "metadata": {},
   "source": [
    "Q1. What exactly is []?"
   ]
  },
  {
   "cell_type": "code",
   "execution_count": 1,
   "id": "b4487c04-a77f-46b7-97cc-49a1132e4491",
   "metadata": {},
   "outputs": [
    {
     "data": {
      "text/plain": [
       "list"
      ]
     },
     "execution_count": 1,
     "metadata": {},
     "output_type": "execute_result"
    }
   ],
   "source": [
    "#It represents the empty list value, which is a list value that contains no items.\n",
    "l=[]\n",
    "type(l)"
   ]
  },
  {
   "cell_type": "markdown",
   "id": "a73e0c9c-f9d4-46ce-ab25-3c0f18131906",
   "metadata": {},
   "source": [
    "Q2. In a list of values stored in a variable called spam, how would you assign the value &#39;hello&#39; as the\n",
    "third value? (Assume [2, 4, 6, 8, 10] are in spam.)"
   ]
  },
  {
   "cell_type": "code",
   "execution_count": 2,
   "id": "837143ea-86d1-4297-8211-cf9a21a7dc68",
   "metadata": {},
   "outputs": [
    {
     "data": {
      "text/plain": [
       "[2, 4, 'Hello', 8, 10]"
      ]
     },
     "execution_count": 2,
     "metadata": {},
     "output_type": "execute_result"
    }
   ],
   "source": [
    "spam=[2,4,6,8,10]\n",
    "spam[2]='Hello'\n",
    "spam"
   ]
  },
  {
   "cell_type": "markdown",
   "id": "004113dc-b852-4bdd-89cc-bf1afaae8095",
   "metadata": {},
   "source": [
    "Let's pretend the spam includes the list ['a';'b';,'c';'d'] for the next three queries."
   ]
  },
  {
   "cell_type": "markdown",
   "id": "c42cd4ac-4443-47b4-9e16-6bbd4d83d200",
   "metadata": {},
   "source": [
    "Q3. What is the value of spam[int(int('3'; * 2) / 11)]?"
   ]
  },
  {
   "cell_type": "code",
   "execution_count": 3,
   "id": "cad14d73-3ee6-46c7-86ce-a86b5410ece4",
   "metadata": {},
   "outputs": [
    {
     "data": {
      "text/plain": [
       "'d'"
      ]
     },
     "execution_count": 3,
     "metadata": {},
     "output_type": "execute_result"
    }
   ],
   "source": [
    "spam = ['a', 'b', 'c', 'd']\n",
    "spam[int(int('3' * 2) / 11)]"
   ]
  },
  {
   "cell_type": "markdown",
   "id": "a88d04e6-d9c1-4992-be89-565d1c953186",
   "metadata": {},
   "source": [
    "Q4. What is the value of spam[-1]?"
   ]
  },
  {
   "cell_type": "code",
   "execution_count": 4,
   "id": "0563759e-70af-4660-88e1-b7d1b58913b6",
   "metadata": {},
   "outputs": [
    {
     "data": {
      "text/plain": [
       "'d'"
      ]
     },
     "execution_count": 4,
     "metadata": {},
     "output_type": "execute_result"
    }
   ],
   "source": [
    "spam[-1]"
   ]
  },
  {
   "cell_type": "markdown",
   "id": "f9ba79af-8de8-4c30-9c37-bdc1f3e9911b",
   "metadata": {},
   "source": [
    "Q5. What is the value of spam[:2]?"
   ]
  },
  {
   "cell_type": "code",
   "execution_count": 5,
   "id": "b02c1a0e-c31f-4ded-a297-c1384a37d232",
   "metadata": {},
   "outputs": [
    {
     "data": {
      "text/plain": [
       "['a', 'b']"
      ]
     },
     "execution_count": 5,
     "metadata": {},
     "output_type": "execute_result"
    }
   ],
   "source": [
    "spam[:2]"
   ]
  },
  {
   "cell_type": "markdown",
   "id": "def62550-ed72-490d-bda5-49503c936120",
   "metadata": {},
   "source": [
    " Let's pretend bacon has the list [3.14,'cat', 11,'cat',11; True] for the next three questions."
   ]
  },
  {
   "cell_type": "markdown",
   "id": "eecf5208-f793-4a0b-81de-9394a459b062",
   "metadata": {},
   "source": [
    "Q6. What is the value of bacon.index('cat')?"
   ]
  },
  {
   "cell_type": "code",
   "execution_count": 7,
   "id": "f17b386d-c9f3-43e5-be71-00e18d31649f",
   "metadata": {},
   "outputs": [
    {
     "data": {
      "text/plain": [
       "1"
      ]
     },
     "execution_count": 7,
     "metadata": {},
     "output_type": "execute_result"
    }
   ],
   "source": [
    "bacon=[3.14, 'cat', 11, 'cat', 11,True]\n",
    "bacon.index('cat')"
   ]
  },
  {
   "cell_type": "markdown",
   "id": "296be454-4c0b-447d-afe1-8c323d806d17",
   "metadata": {},
   "source": [
    "Q7. How does bacon.append(99) change the look of the list value in bacon?"
   ]
  },
  {
   "cell_type": "code",
   "execution_count": 9,
   "id": "3561741f-65c2-4ed3-98c5-ede822c93a92",
   "metadata": {},
   "outputs": [
    {
     "data": {
      "text/plain": [
       "[3.14, 'cat', 11, 'cat', 11, True, 99, 99]"
      ]
     },
     "execution_count": 9,
     "metadata": {},
     "output_type": "execute_result"
    }
   ],
   "source": [
    "bacon.append(99)\n",
    "bacon"
   ]
  },
  {
   "cell_type": "markdown",
   "id": "37be6b6e-a521-48c7-96a3-28901084cfcd",
   "metadata": {},
   "source": [
    "Q8. How does bacon.remove('cat') change the look of the list in bacon?"
   ]
  },
  {
   "cell_type": "code",
   "execution_count": 11,
   "id": "ffdb8a6d-4654-426c-b797-0293811b554d",
   "metadata": {},
   "outputs": [
    {
     "data": {
      "text/plain": [
       "[3.14, 11, 11, True, 99, 99]"
      ]
     },
     "execution_count": 11,
     "metadata": {},
     "output_type": "execute_result"
    }
   ],
   "source": [
    "bacon.remove('cat')\n",
    "bacon"
   ]
  },
  {
   "cell_type": "markdown",
   "id": "3aee6024-cf03-4234-9535-c628ece071f2",
   "metadata": {},
   "source": [
    "Q9. What are the list concatenation and list replication operators?"
   ]
  },
  {
   "cell_type": "code",
   "execution_count": 12,
   "id": "d0e82d76-9afd-4516-997a-af66b9c1eb7c",
   "metadata": {},
   "outputs": [
    {
     "data": {
      "text/plain": [
       "[2, 4, 5, 7, 'Mohit', 'Chauhan', 1996]"
      ]
     },
     "execution_count": 12,
     "metadata": {},
     "output_type": "execute_result"
    }
   ],
   "source": [
    "# List concatenation refers to adding two different list and concatenation operator is '+'\n",
    "# list replication refers to reperating the same list values in multiples and replication operator is '*'\n",
    "l1=[2,4,5,7]\n",
    "l2=['Mohit', 'Chauhan', 1996]\n",
    "l1+l2"
   ]
  },
  {
   "cell_type": "code",
   "execution_count": 14,
   "id": "1c0bee17-2e5e-4225-b424-b666c0e74b45",
   "metadata": {},
   "outputs": [
    {
     "data": {
      "text/plain": [
       "[2, 4, 5, 7, 2, 4, 5, 7, 2, 4, 5, 7]"
      ]
     },
     "execution_count": 14,
     "metadata": {},
     "output_type": "execute_result"
    }
   ],
   "source": [
    "l1*3"
   ]
  },
  {
   "cell_type": "code",
   "execution_count": 15,
   "id": "0e4c5fed-e3bb-4e10-99fa-4516e03c3a5e",
   "metadata": {},
   "outputs": [
    {
     "data": {
      "text/plain": [
       "['Mohit', 'Chauhan', 1996, 'Mohit', 'Chauhan', 1996]"
      ]
     },
     "execution_count": 15,
     "metadata": {},
     "output_type": "execute_result"
    }
   ],
   "source": [
    "l2*2"
   ]
  },
  {
   "cell_type": "markdown",
   "id": "51ff5df8-0e57-4f56-8c07-dcfb4aec5735",
   "metadata": {},
   "source": [
    "Q10. What is difference between the list methods append() and insert()?"
   ]
  },
  {
   "cell_type": "code",
   "execution_count": 31,
   "id": "d6bde8b1-3a15-497d-811c-3688f90eb3e9",
   "metadata": {},
   "outputs": [
    {
     "data": {
      "text/plain": [
       "[5, 10, 15, 20, 25, 'Mohit']"
      ]
     },
     "execution_count": 31,
     "metadata": {},
     "output_type": "execute_result"
    }
   ],
   "source": [
    "#append()- adds the values to the end of the list\n",
    "#insert()- adds the values at any index of the list\n",
    "l=[5,10,15,20,25]\n",
    "l.append('Mohit')\n",
    "l"
   ]
  },
  {
   "cell_type": "code",
   "execution_count": 32,
   "id": "af291cb8-5038-4802-8c7c-d6abe9b18bbb",
   "metadata": {},
   "outputs": [
    {
     "data": {
      "text/plain": [
       "[5, 10, 'Chauhan', 15, 20, 25, 'Mohit']"
      ]
     },
     "execution_count": 32,
     "metadata": {},
     "output_type": "execute_result"
    }
   ],
   "source": [
    "l.insert(2, 'Chauhan')\n",
    "l"
   ]
  },
  {
   "cell_type": "markdown",
   "id": "83d9b563-9b73-431c-a164-7ea8c64b6b39",
   "metadata": {},
   "source": [
    "Q11. What are the two methods for removing items from a list?"
   ]
  },
  {
   "cell_type": "code",
   "execution_count": 39,
   "id": "b44cebcb-e1aa-4a81-9fe1-591008133e9c",
   "metadata": {},
   "outputs": [
    {
     "data": {
      "text/plain": [
       "[5, 'Chauhan', 15, 20, 25, 15, 'Mohit']"
      ]
     },
     "execution_count": 39,
     "metadata": {},
     "output_type": "execute_result"
    }
   ],
   "source": [
    "# pop()-removes element from the list at specified index\n",
    "# remove()- removes the first element of the specified value\n",
    "# clear()- removes all the elements from the list\n",
    "l=[5, 10, 'Chauhan', 15, 20, 25,15, 'Mohit']\n",
    "l.pop(1)\n",
    "l"
   ]
  },
  {
   "cell_type": "code",
   "execution_count": 40,
   "id": "b87fc67b-06fa-4689-8fbf-f30a5057c423",
   "metadata": {},
   "outputs": [
    {
     "data": {
      "text/plain": [
       "[5, 'Chauhan', 20, 25, 15, 'Mohit']"
      ]
     },
     "execution_count": 40,
     "metadata": {},
     "output_type": "execute_result"
    }
   ],
   "source": [
    "l.remove(15)\n",
    "l"
   ]
  },
  {
   "cell_type": "code",
   "execution_count": 41,
   "id": "040f7b66-ed5b-4dbc-b99b-fb80bf8f66d9",
   "metadata": {},
   "outputs": [
    {
     "data": {
      "text/plain": [
       "[]"
      ]
     },
     "execution_count": 41,
     "metadata": {},
     "output_type": "execute_result"
    }
   ],
   "source": [
    "l.clear()\n",
    "l"
   ]
  },
  {
   "cell_type": "markdown",
   "id": "ab944762-5b7a-452a-a1f8-ecfd3633e507",
   "metadata": {},
   "source": [
    "Q12. Describe how list values and string values are identical."
   ]
  },
  {
   "cell_type": "markdown",
   "id": "3d9f74b6-4e11-4983-a497-7e57f2c2a910",
   "metadata": {},
   "source": [
    "Both lists and strings can be passed to len(), have indexes and slices, be used in for loops, be concatenated or replicated, and be used with the in and not in operators."
   ]
  },
  {
   "cell_type": "markdown",
   "id": "e8fc3662-346a-417f-9214-6ea8c511ed5a",
   "metadata": {},
   "source": [
    "Q13. What's the difference between tuples and lists?"
   ]
  },
  {
   "cell_type": "markdown",
   "id": "91a06a92-ef08-45dd-acea-2eb096e551d7",
   "metadata": {},
   "source": [
    "1.) Lists are mutable; they can have values added, removed, or changed. Tuples are immutable; they cannot be changed at all.\n",
    "2.) tuples are written using parentheses, ( and ), while lists use the square brackets, [ and ]."
   ]
  },
  {
   "cell_type": "markdown",
   "id": "94089aea-5f7f-499e-8c91-eb8b5adc2e17",
   "metadata": {},
   "source": [
    "Q14. How do you type a tuple value that only contains the integer 42?"
   ]
  },
  {
   "cell_type": "code",
   "execution_count": 46,
   "id": "4088cc6e-a804-40a4-bc04-a6b643177e37",
   "metadata": {},
   "outputs": [
    {
     "data": {
      "text/plain": [
       "tuple"
      ]
     },
     "execution_count": 46,
     "metadata": {},
     "output_type": "execute_result"
    }
   ],
   "source": [
    "t=(42,)\n",
    "type(t)"
   ]
  },
  {
   "cell_type": "markdown",
   "id": "40f47299-2014-4dd4-8040-828d14d02669",
   "metadata": {},
   "source": [
    "Q15. How do you get a list value's tuple form? How do you get a tuple value's list form?"
   ]
  },
  {
   "cell_type": "code",
   "execution_count": 48,
   "id": "cf2552aa-b5c1-4a34-8338-bf91dce1f480",
   "metadata": {},
   "outputs": [
    {
     "data": {
      "text/plain": [
       "(2, 4, 8, 'Pepsi')"
      ]
     },
     "execution_count": 48,
     "metadata": {},
     "output_type": "execute_result"
    }
   ],
   "source": [
    "#list values into tuple's form\n",
    "l=[2,4,8,'Pepsi']\n",
    "t=tuple(l)\n",
    "t"
   ]
  },
  {
   "cell_type": "code",
   "execution_count": 49,
   "id": "011a72eb-22cd-400a-a445-1a700816ce74",
   "metadata": {},
   "outputs": [
    {
     "data": {
      "text/plain": [
       "[18, 20, 25, 'Coke', 'Sprite']"
      ]
     },
     "execution_count": 49,
     "metadata": {},
     "output_type": "execute_result"
    }
   ],
   "source": [
    "#tuple value into list form\n",
    "t1=(18, 20, 25, 'Coke','Sprite')\n",
    "l1=list(t1)\n",
    "l1"
   ]
  },
  {
   "cell_type": "markdown",
   "id": "de94b90d-4c38-43f8-b8c7-8e41ec8ad6ec",
   "metadata": {},
   "source": [
    "Q16. Variables that \"contain\" list values are not necessarily lists themselves. Instead, what do they\n",
    "contain?"
   ]
  },
  {
   "cell_type": "markdown",
   "id": "7dfdd5c5-e1aa-47e1-8d20-0af720f3c585",
   "metadata": {},
   "source": [
    "They contain references to list values."
   ]
  },
  {
   "cell_type": "markdown",
   "id": "d3a22d15-df4b-4ea6-9dfe-c808f9c74e6d",
   "metadata": {},
   "source": [
    "Q17. How do you distinguish between copy.copy() and copy.deepcopy()?"
   ]
  },
  {
   "cell_type": "code",
   "execution_count": 70,
   "id": "78e80eae-1d43-49df-ad43-41e4b45d0a36",
   "metadata": {},
   "outputs": [],
   "source": [
    "#The copy.copy() function will do a shallow copy of a list\n",
    "import copy\n",
    "l=[5,10,25,45,75, ['laptop', 'charger',4,25]]\n",
    "l1=copy.copy(l)\n",
    "l1[5][2]='mobile'"
   ]
  },
  {
   "cell_type": "code",
   "execution_count": 72,
   "id": "940063c3-df88-49a7-bfeb-8e0220dccb56",
   "metadata": {},
   "outputs": [
    {
     "data": {
      "text/plain": [
       "([5, 10, 25, 45, 75, ['laptop', 'charger', 'mobile', 25]],\n",
       " [5, 10, 25, 45, 75, ['laptop', 'charger', 'mobile', 25]])"
      ]
     },
     "execution_count": 72,
     "metadata": {},
     "output_type": "execute_result"
    }
   ],
   "source": [
    "l,l1"
   ]
  },
  {
   "cell_type": "code",
   "execution_count": 73,
   "id": "6cb54e1e-6c66-4456-9f58-e6a225608f44",
   "metadata": {},
   "outputs": [],
   "source": [
    "#The copy.deepcopy() function will do a deep copy of a list. only copy.deepcopy() will duplicate any lists inside the list\n",
    "l=[5, 10, 25, 45, 75, ['laptop', 'charger', 'mobile', 25]]\n",
    "l2=copy.deepcopy(l)\n",
    "l2[5][3]=8053"
   ]
  },
  {
   "cell_type": "code",
   "execution_count": 74,
   "id": "d81c2379-190f-4eed-83dd-9d4af1ae4df5",
   "metadata": {},
   "outputs": [
    {
     "data": {
      "text/plain": [
       "([5, 10, 25, 45, 75, ['laptop', 'charger', 'mobile', 25]],\n",
       " [5, 10, 25, 45, 75, ['laptop', 'charger', 'mobile', 8053]])"
      ]
     },
     "execution_count": 74,
     "metadata": {},
     "output_type": "execute_result"
    }
   ],
   "source": [
    "l,l2"
   ]
  },
  {
   "cell_type": "code",
   "execution_count": null,
   "id": "29e77a26-97aa-4efb-8a9f-7bbd8b7650ee",
   "metadata": {},
   "outputs": [],
   "source": []
  }
 ],
 "metadata": {
  "kernelspec": {
   "display_name": "Python 3 (ipykernel)",
   "language": "python",
   "name": "python3"
  },
  "language_info": {
   "codemirror_mode": {
    "name": "ipython",
    "version": 3
   },
   "file_extension": ".py",
   "mimetype": "text/x-python",
   "name": "python",
   "nbconvert_exporter": "python",
   "pygments_lexer": "ipython3",
   "version": "3.10.6"
  }
 },
 "nbformat": 4,
 "nbformat_minor": 5
}
